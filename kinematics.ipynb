{
 "cells": [
  {
   "cell_type": "code",
   "execution_count": 4,
   "metadata": {},
   "outputs": [],
   "source": [
    "import sympy as sp\n",
    "\n",
    "# Define functions for individual transformations\n",
    "def Rx(alpha):\n",
    "  \"\"\"\n",
    "  This function creates a symbolic rotation matrix around the X-axis.\n",
    "\n",
    "  Args:\n",
    "      alpha (sp.Symbol): Rotation angle.\n",
    "\n",
    "  Returns:\n",
    "      sp.Matrix: The symbolic rotation matrix.\n",
    "  \"\"\"\n",
    "  ca = sp.cos(alpha)\n",
    "  sa = sp.sin(alpha)\n",
    "  return sp.Matrix([[1, 0, 0, 0],\n",
    "                   [0, ca, -sa, 0],\n",
    "                   [0, sa, ca, 0],\n",
    "                   [0, 0, 0, 1]])\n",
    "\n",
    "def Tx(a):\n",
    "  \"\"\"\n",
    "  This function creates a symbolic translation matrix along the X-axis.\n",
    "\n",
    "  Args:\n",
    "      a (sp.Symbol): Translation distance.\n",
    "\n",
    "  Returns:\n",
    "      sp.Matrix: The symbolic translation matrix.\n",
    "  \"\"\"\n",
    "  return sp.Matrix([[1, 0, 0, a],\n",
    "                   [0, 1, 0, 0],\n",
    "                   [0, 0, 1, 0],\n",
    "                   [0, 0, 0, 1]])\n",
    "\n",
    "def Rz(theta):\n",
    "  \"\"\"\n",
    "  This function creates a symbolic rotation matrix around the Z-axis.\n",
    "\n",
    "  Args:\n",
    "      theta (sp.Symbol): Rotation angle.\n",
    "\n",
    "  Returns:\n",
    "      sp.Matrix: The symbolic rotation matrix.\n",
    "  \"\"\"\n",
    "  ca = sp.cos(theta)\n",
    "  sa = sp.sin(theta)\n",
    "  return sp.Matrix([[ca, -sa, 0, 0],\n",
    "                   [sa, ca, 0, 0],\n",
    "                   [0, 0, 1, 0],\n",
    "                   [0, 0, 0, 1]])\n",
    "\n",
    "def Tz(d):\n",
    "  \"\"\"\n",
    "  This function creates a symbolic translation matrix along the Z-axis.\n",
    "\n",
    "  Args:\n",
    "      d (sp.Symbol): Translation distance.\n",
    "\n",
    "  Returns:\n",
    "      sp.Matrix: The symbolic translation matrix.\n",
    "  \"\"\"\n",
    "  return sp.Matrix([[1, 0, 0, 0],\n",
    "                   [0, 1, 0, 0],\n",
    "                   [0, 0, 1, d],\n",
    "                   [0, 0, 0, 1]])\n",
    "\n",
    "# Function for combined transformation\n",
    "def DH(alpha, a, d, theta):\n",
    "  \"\"\"\n",
    "  This function builds a symbolic transformation matrix using the Denavit-Hartenberg (DH) convention.\n",
    "\n",
    "  Args:\n",
    "      alpha (sp.Symbol): Twist angle about the previous z-axis.\n",
    "      a (sp.Symbol): Offset distance along the previous z-axis.\n",
    "      theta (sp.Symbol): Rotation angle about the current x-axis.\n",
    "      d (sp.Symbol): Offset distance along the current x-axis.\n",
    "\n",
    "  Returns:\n",
    "      sp.Matrix: The symbolic transformation matrix.\n",
    "  \"\"\"\n",
    "\n",
    "  # Define the rotation and translation components\n",
    "  R_alpha = Rx(alpha)\n",
    "  R_theta = Rz(theta)\n",
    "  T_d = Tz(d)\n",
    "  T_a = Tx(a)\n",
    "\n",
    "  # Apply the transformations in the DH convention order\n",
    "  T = R_alpha * T_a * R_theta * T_d\n",
    "\n",
    "  return T\n",
    "\n",
    "def get_T_from_DH(DH_table, all_transforms=False):\n",
    "\n",
    "    # Get the symbolic output\n",
    "    T_01 = DH(alpha_0, a_0, d_1, theta_1)\n",
    "    T_12 = DH(alpha_1, a_1, d_2, theta_2)\n",
    "    T_23 = DH(alpha_2, a_2, d_3, theta_3)\n",
    "    T_34 = DH(alpha_3, a_3, d_4, theta_4)\n",
    "    T_45 = DH(alpha_4, a_4, d_5, theta_5)\n",
    "\n",
    "    T_01 = T_01.subs(D_H_table)\n",
    "    T_12 = T_12.subs(D_H_table)\n",
    "    T_23 = T_23.subs(D_H_table)\n",
    "    T_34 = T_34.subs(D_H_table)\n",
    "    T_45 = T_45.subs(D_H_table)\n",
    "\n",
    "    T_04 = sp.simplify(T_01 * T_12 * T_23 * T_34)\n",
    "    T_05 = sp.simplify(T_01 * T_12 * T_23 * T_34 * T_45)\n",
    "\n",
    "    if all_transforms:\n",
    "        return T_01, T_12, T_23, T_34, T_45, T_04, T_05\n",
    "    return T_04\n",
    "\n",
    "# # set the values of the symbolic variables\n",
    "# T_01 = T_01.subs({alpha_0: 0, a_0: 0, d_1: L_1, theta_1: theta_1})\n",
    "# T_12 = T_12.subs({alpha_1: 0, a_1: L_2, d_2: 0, theta_2: theta_2})\n",
    "# T_23 = T_23.subs({alpha_2: sp.pi, a_2: L_3, d_3: L_4+d_3, theta_3: 0})\n",
    "# T_34 = T_34.subs({alpha_3: 0, a_3: 0, d_4: 0, theta_4: theta_4})\n",
    "# T_45 = T_45.subs({alpha_4: 0, a_4: 0, d_5: L_5, theta_5: 0})\n",
    "\n",
    "# Define symbolic variables\n",
    "alpha_0, a_0, d_1, theta_1 = sp.symbols('alpha_0 a_0 d_1 theta_1')\n",
    "alpha_1, a_1, d_2, theta_2 = sp.symbols('alpha_1 a_1 d_2 theta_2')\n",
    "alpha_2, a_2, d_3, theta_3 = sp.symbols('alpha_2 a_2 d_3 theta_3')\n",
    "alpha_3, a_3, d_4, theta_4 = sp.symbols('alpha_3 a_3 d_4 theta_4')\n",
    "alpha_4, a_4, d_5, theta_5 = sp.symbols('alpha_4 a_4 d_5 theta_5')\n",
    "\n",
    "L_0, L_1, L_2, L_3, L_4, L_5 = sp.symbols('L_0 L_1 L_2 L_3 L_4 L_5')"
   ]
  },
  {
   "cell_type": "code",
   "execution_count": 5,
   "metadata": {},
   "outputs": [
    {
     "data": {
      "text/latex": [
       "$\\displaystyle \\left[\\begin{matrix}\\cos{\\left(\\theta_{1} + \\theta_{2} - \\theta_{4} \\right)} & \\sin{\\left(\\theta_{1} + \\theta_{2} - \\theta_{4} \\right)} & 0 & L_{2} \\cos{\\left(\\theta_{1} \\right)} + L_{3} \\cos{\\left(\\theta_{1} + \\theta_{2} \\right)}\\\\\\sin{\\left(\\theta_{1} + \\theta_{2} - \\theta_{4} \\right)} & - \\cos{\\left(\\theta_{1} + \\theta_{2} - \\theta_{4} \\right)} & 0 & L_{2} \\sin{\\left(\\theta_{1} \\right)} + L_{3} \\sin{\\left(\\theta_{1} + \\theta_{2} \\right)}\\\\0 & 0 & -1 & L_{0} + L_{1} - L_{4} - d_{3}\\\\0 & 0 & 0 & 1\\end{matrix}\\right]$"
      ],
      "text/plain": [
       "Matrix([\n",
       "[cos(theta_1 + theta_2 - theta_4),  sin(theta_1 + theta_2 - theta_4),  0, L_2*cos(theta_1) + L_3*cos(theta_1 + theta_2)],\n",
       "[sin(theta_1 + theta_2 - theta_4), -cos(theta_1 + theta_2 - theta_4),  0, L_2*sin(theta_1) + L_3*sin(theta_1 + theta_2)],\n",
       "[                               0,                                 0, -1,                         L_0 + L_1 - L_4 - d_3],\n",
       "[                               0,                                 0,  0,                                             1]])"
      ]
     },
     "metadata": {},
     "output_type": "display_data"
    }
   ],
   "source": [
    "D_H_table = {\n",
    "    alpha_0: 0, a_0: 0, d_1: L_0+L_1, theta_1: theta_1,\n",
    "    alpha_1: 0, a_1: L_2, d_2: 0, theta_2: theta_2,\n",
    "    alpha_2: sp.pi, a_2: L_3, d_3: L_4+d_3, theta_3: 0,\n",
    "    alpha_3: 0, a_3: 0, d_4: 0, theta_4: theta_4,\n",
    "    alpha_4: 0, a_4: 0, d_5: L_5, theta_5: 0\n",
    "}\n",
    "\n",
    "T_04 = get_T_from_DH(D_H_table)\n",
    "\n",
    "# sp.simplify(T_01 * sp.simplify(T_12 * sp.simplify(T_23 * T_34)))\n",
    "display(T_04)"
   ]
  },
  {
   "cell_type": "code",
   "execution_count": 6,
   "metadata": {},
   "outputs": [
    {
     "data": {
      "text/latex": [
       "$\\displaystyle \\left[\\begin{matrix}\\cos{\\left(\\theta_{1} + \\theta_{2} - \\theta_{4} \\right)} & \\sin{\\left(\\theta_{1} + \\theta_{2} - \\theta_{4} \\right)} & 0 & L_{2} \\cos{\\left(\\theta_{1} \\right)} + L_{3} \\cos{\\left(\\theta_{1} + \\theta_{2} \\right)}\\\\\\sin{\\left(\\theta_{1} + \\theta_{2} - \\theta_{4} \\right)} & - \\cos{\\left(\\theta_{1} + \\theta_{2} - \\theta_{4} \\right)} & 0 & L_{2} \\sin{\\left(\\theta_{1} \\right)} + L_{3} \\sin{\\left(\\theta_{1} + \\theta_{2} \\right)}\\\\0 & 0 & -1 & L_{0} + L_{1} - L_{4} - d_{3}\\\\0 & 0 & 0 & 1\\end{matrix}\\right]$"
      ],
      "text/plain": [
       "Matrix([\n",
       "[cos(theta_1 + theta_2 - theta_4),  sin(theta_1 + theta_2 - theta_4),  0, L_2*cos(theta_1) + L_3*cos(theta_1 + theta_2)],\n",
       "[sin(theta_1 + theta_2 - theta_4), -cos(theta_1 + theta_2 - theta_4),  0, L_2*sin(theta_1) + L_3*sin(theta_1 + theta_2)],\n",
       "[                               0,                                 0, -1,                         L_0 + L_1 - L_4 - d_3],\n",
       "[                               0,                                 0,  0,                                             1]])"
      ]
     },
     "metadata": {},
     "output_type": "display_data"
    }
   ],
   "source": [
    "D_H_table = {\n",
    "    alpha_0: 0, a_0: 0, d_1: 0, theta_1: theta_1,\n",
    "    alpha_1: 0, a_1: L_2, d_2: L_0+L_1, theta_2: theta_2,\n",
    "    alpha_2: sp.pi, a_2: L_3, d_3: L_4+d_3, theta_3: 0,\n",
    "    alpha_3: 0, a_3: 0, d_4: 0, theta_4: theta_4,\n",
    "    alpha_4: 0, a_4: 0, d_5: L_5, theta_5: 0\n",
    "}\n",
    "\n",
    "T_04 = get_T_from_DH(D_H_table)\n",
    "\n",
    "# sp.simplify(T_01 * sp.simplify(T_12 * sp.simplify(T_23 * T_34)))\n",
    "display(T_04)"
   ]
  },
  {
   "cell_type": "code",
   "execution_count": 9,
   "metadata": {},
   "outputs": [
    {
     "name": "stdout",
     "output_type": "stream",
     "text": [
      "Matrix([[cos(theta_1 + theta_2 - theta_4), sin(theta_1 + theta_2 - theta_4), 0, L_2*cos(theta_1) + L_3*cos(theta_1 + theta_2)], [sin(theta_1 + theta_2 - theta_4), -cos(theta_1 + theta_2 - theta_4), 0, L_2*sin(theta_1) + L_3*sin(theta_1 + theta_2)], [0, 0, -1, L_0 + L_1 - L_4 - d_3], [0, 0, 0, 1]])\n"
     ]
    }
   ],
   "source": [
    "print(sp.simplify(T_04))"
   ]
  },
  {
   "cell_type": "code",
   "execution_count": null,
   "metadata": {},
   "outputs": [],
   "source": []
  }
 ],
 "metadata": {
  "kernelspec": {
   "display_name": "venv",
   "language": "python",
   "name": "python3"
  },
  "language_info": {
   "codemirror_mode": {
    "name": "ipython",
    "version": 3
   },
   "file_extension": ".py",
   "mimetype": "text/x-python",
   "name": "python",
   "nbconvert_exporter": "python",
   "pygments_lexer": "ipython3",
   "version": "3.10.12"
  }
 },
 "nbformat": 4,
 "nbformat_minor": 2
}
